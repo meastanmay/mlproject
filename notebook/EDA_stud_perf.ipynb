{
 "cells": [
  {
   "cell_type": "code",
   "execution_count": 25,
   "id": "85b3a79e",
   "metadata": {},
   "outputs": [],
   "source": [
    "# Importing the important libraries to work on our Dataset\n",
    "import pandas as pd\n",
    "import numpy as np\n",
    "import matplotlib.pyplot as plt\n",
    "import seaborn as sns\n",
    "import warnings \n",
    "warnings.filterwarnings(\"ignore\")\n",
    "\n",
    "from sklearn.preprocessing import StandardScaler,MinMaxScaler\n",
    "from sklearn.model_selection import train_test_split,RandomizedSearchCV\n",
    "\n",
    "from sklearn.linear_model import LinearRegression,Ridge,Lasso\n",
    "from sklearn.tree import DecisionTreeRegressor\n",
    "from sklearn.ensemble import RandomForestRegressor,AdaBoostRegressor\n",
    "from xgboost import XGBRegressor\n",
    "from catboost import CatBoostRegressor\n",
    "from sklearn.svm import SVR\n",
    "from sklearn.metrics import mean_absolute_error,mean_squared_error,r2_score\n"
   ]
  },
  {
   "cell_type": "code",
   "execution_count": 2,
   "id": "6b286d53",
   "metadata": {},
   "outputs": [
    {
     "data": {
      "text/html": [
       "<div>\n",
       "<style scoped>\n",
       "    .dataframe tbody tr th:only-of-type {\n",
       "        vertical-align: middle;\n",
       "    }\n",
       "\n",
       "    .dataframe tbody tr th {\n",
       "        vertical-align: top;\n",
       "    }\n",
       "\n",
       "    .dataframe thead th {\n",
       "        text-align: right;\n",
       "    }\n",
       "</style>\n",
       "<table border=\"1\" class=\"dataframe\">\n",
       "  <thead>\n",
       "    <tr style=\"text-align: right;\">\n",
       "      <th></th>\n",
       "      <th>gender</th>\n",
       "      <th>race_ethnicity</th>\n",
       "      <th>parental_level_of_education</th>\n",
       "      <th>lunch</th>\n",
       "      <th>test_preparation_course</th>\n",
       "      <th>math_score</th>\n",
       "      <th>reading_score</th>\n",
       "      <th>writing_score</th>\n",
       "    </tr>\n",
       "  </thead>\n",
       "  <tbody>\n",
       "    <tr>\n",
       "      <th>0</th>\n",
       "      <td>female</td>\n",
       "      <td>group B</td>\n",
       "      <td>bachelor's degree</td>\n",
       "      <td>standard</td>\n",
       "      <td>none</td>\n",
       "      <td>72</td>\n",
       "      <td>72</td>\n",
       "      <td>74</td>\n",
       "    </tr>\n",
       "    <tr>\n",
       "      <th>1</th>\n",
       "      <td>female</td>\n",
       "      <td>group C</td>\n",
       "      <td>some college</td>\n",
       "      <td>standard</td>\n",
       "      <td>completed</td>\n",
       "      <td>69</td>\n",
       "      <td>90</td>\n",
       "      <td>88</td>\n",
       "    </tr>\n",
       "    <tr>\n",
       "      <th>2</th>\n",
       "      <td>female</td>\n",
       "      <td>group B</td>\n",
       "      <td>master's degree</td>\n",
       "      <td>standard</td>\n",
       "      <td>none</td>\n",
       "      <td>90</td>\n",
       "      <td>95</td>\n",
       "      <td>93</td>\n",
       "    </tr>\n",
       "    <tr>\n",
       "      <th>3</th>\n",
       "      <td>male</td>\n",
       "      <td>group A</td>\n",
       "      <td>associate's degree</td>\n",
       "      <td>free/reduced</td>\n",
       "      <td>none</td>\n",
       "      <td>47</td>\n",
       "      <td>57</td>\n",
       "      <td>44</td>\n",
       "    </tr>\n",
       "    <tr>\n",
       "      <th>4</th>\n",
       "      <td>male</td>\n",
       "      <td>group C</td>\n",
       "      <td>some college</td>\n",
       "      <td>standard</td>\n",
       "      <td>none</td>\n",
       "      <td>76</td>\n",
       "      <td>78</td>\n",
       "      <td>75</td>\n",
       "    </tr>\n",
       "  </tbody>\n",
       "</table>\n",
       "</div>"
      ],
      "text/plain": [
       "   gender race_ethnicity parental_level_of_education         lunch  \\\n",
       "0  female        group B           bachelor's degree      standard   \n",
       "1  female        group C                some college      standard   \n",
       "2  female        group B             master's degree      standard   \n",
       "3    male        group A          associate's degree  free/reduced   \n",
       "4    male        group C                some college      standard   \n",
       "\n",
       "  test_preparation_course  math_score  reading_score  writing_score  \n",
       "0                    none          72             72             74  \n",
       "1               completed          69             90             88  \n",
       "2                    none          90             95             93  \n",
       "3                    none          47             57             44  \n",
       "4                    none          76             78             75  "
      ]
     },
     "execution_count": 2,
     "metadata": {},
     "output_type": "execute_result"
    }
   ],
   "source": [
    "# reading the dataset in the notebook\n",
    "df = pd.read_csv(\"C:/Users/tanma/Desktop/Udemy/Complete DS course/project/mlproject/notebook/stud.csv\")\n",
    "df.head()"
   ]
  },
  {
   "cell_type": "code",
   "execution_count": 3,
   "id": "aab288d2",
   "metadata": {},
   "outputs": [
    {
     "name": "stdout",
     "output_type": "stream",
     "text": [
      "Number of records = 1000\n",
      "Total number of features = 8\n"
     ]
    }
   ],
   "source": [
    "# checking the shape of the dataframe\n",
    "print(f\"Number of records = {df.shape[0]}\")\n",
    "print(f\"Total number of features = {df.shape[1]}\")"
   ]
  },
  {
   "cell_type": "code",
   "execution_count": 4,
   "id": "0cb24916",
   "metadata": {},
   "outputs": [
    {
     "name": "stdout",
     "output_type": "stream",
     "text": [
      "<class 'pandas.core.frame.DataFrame'>\n",
      "RangeIndex: 1000 entries, 0 to 999\n",
      "Data columns (total 8 columns):\n",
      " #   Column                       Non-Null Count  Dtype \n",
      "---  ------                       --------------  ----- \n",
      " 0   gender                       1000 non-null   object\n",
      " 1   race_ethnicity               1000 non-null   object\n",
      " 2   parental_level_of_education  1000 non-null   object\n",
      " 3   lunch                        1000 non-null   object\n",
      " 4   test_preparation_course      1000 non-null   object\n",
      " 5   math_score                   1000 non-null   int64 \n",
      " 6   reading_score                1000 non-null   int64 \n",
      " 7   writing_score                1000 non-null   int64 \n",
      "dtypes: int64(3), object(5)\n",
      "memory usage: 62.6+ KB\n"
     ]
    }
   ],
   "source": [
    "# checking info of the features\n",
    "df.info()"
   ]
  },
  {
   "cell_type": "markdown",
   "id": "38670b3d",
   "metadata": {},
   "source": [
    "**From the above results we can observe that the data types of each of the feature are correct and we need not to change their data types.**"
   ]
  },
  {
   "cell_type": "code",
   "execution_count": 5,
   "id": "9b2f0ce1",
   "metadata": {},
   "outputs": [
    {
     "data": {
      "text/html": [
       "<div>\n",
       "<style scoped>\n",
       "    .dataframe tbody tr th:only-of-type {\n",
       "        vertical-align: middle;\n",
       "    }\n",
       "\n",
       "    .dataframe tbody tr th {\n",
       "        vertical-align: top;\n",
       "    }\n",
       "\n",
       "    .dataframe thead th {\n",
       "        text-align: right;\n",
       "    }\n",
       "</style>\n",
       "<table border=\"1\" class=\"dataframe\">\n",
       "  <thead>\n",
       "    <tr style=\"text-align: right;\">\n",
       "      <th></th>\n",
       "      <th>Perc_null_values</th>\n",
       "    </tr>\n",
       "  </thead>\n",
       "  <tbody>\n",
       "    <tr>\n",
       "      <th>gender</th>\n",
       "      <td>0.0</td>\n",
       "    </tr>\n",
       "    <tr>\n",
       "      <th>race_ethnicity</th>\n",
       "      <td>0.0</td>\n",
       "    </tr>\n",
       "    <tr>\n",
       "      <th>parental_level_of_education</th>\n",
       "      <td>0.0</td>\n",
       "    </tr>\n",
       "    <tr>\n",
       "      <th>lunch</th>\n",
       "      <td>0.0</td>\n",
       "    </tr>\n",
       "    <tr>\n",
       "      <th>test_preparation_course</th>\n",
       "      <td>0.0</td>\n",
       "    </tr>\n",
       "    <tr>\n",
       "      <th>math_score</th>\n",
       "      <td>0.0</td>\n",
       "    </tr>\n",
       "    <tr>\n",
       "      <th>reading_score</th>\n",
       "      <td>0.0</td>\n",
       "    </tr>\n",
       "    <tr>\n",
       "      <th>writing_score</th>\n",
       "      <td>0.0</td>\n",
       "    </tr>\n",
       "  </tbody>\n",
       "</table>\n",
       "</div>"
      ],
      "text/plain": [
       "                             Perc_null_values\n",
       "gender                                    0.0\n",
       "race_ethnicity                            0.0\n",
       "parental_level_of_education               0.0\n",
       "lunch                                     0.0\n",
       "test_preparation_course                   0.0\n",
       "math_score                                0.0\n",
       "reading_score                             0.0\n",
       "writing_score                             0.0"
      ]
     },
     "execution_count": 5,
     "metadata": {},
     "output_type": "execute_result"
    }
   ],
   "source": [
    "# checking the null values if any\n",
    "pd.DataFrame(df.isnull().sum()/df.shape[0]*100,columns = ['Perc_null_values'])"
   ]
  },
  {
   "cell_type": "markdown",
   "id": "b8148ec7",
   "metadata": {},
   "source": [
    "**From the above results we observed that there are no null values in the dataset.**"
   ]
  },
  {
   "cell_type": "code",
   "execution_count": 6,
   "id": "07fbab7c",
   "metadata": {},
   "outputs": [
    {
     "data": {
      "text/plain": [
       "np.int64(0)"
      ]
     },
     "execution_count": 6,
     "metadata": {},
     "output_type": "execute_result"
    }
   ],
   "source": [
    "# checking the duplicate values\n",
    "df.duplicated().sum()"
   ]
  },
  {
   "cell_type": "markdown",
   "id": "46b41185",
   "metadata": {},
   "source": [
    "**There are no duplicate records in the dataset.**"
   ]
  },
  {
   "cell_type": "markdown",
   "id": "49907282",
   "metadata": {},
   "source": [
    "#### Performing Univariate Analysis of the each variable in the dataset"
   ]
  },
  {
   "cell_type": "code",
   "execution_count": 7,
   "id": "a14ee00b",
   "metadata": {},
   "outputs": [],
   "source": [
    "# Dividing the features in to categorical and numerical\n",
    "cat_col = list(df.select_dtypes(include='object').columns)\n",
    "num_col = list(df.select_dtypes(include=np.number).columns)"
   ]
  },
  {
   "cell_type": "code",
   "execution_count": 8,
   "id": "3befc098",
   "metadata": {},
   "outputs": [
    {
     "name": "stdout",
     "output_type": "stream",
     "text": [
      "Following are the categorical features:\n",
      "['gender', 'race_ethnicity', 'parental_level_of_education', 'lunch', 'test_preparation_course']\n",
      "Following are the numerical features in the dataset:\n",
      "['math_score', 'reading_score', 'writing_score']\n"
     ]
    }
   ],
   "source": [
    "print(f\"Following are the categorical features:\\n{cat_col}\")\n",
    "print(f\"Following are the numerical features in the dataset:\\n{num_col}\")\n"
   ]
  },
  {
   "cell_type": "code",
   "execution_count": 9,
   "id": "90d97a59",
   "metadata": {},
   "outputs": [
    {
     "name": "stdout",
     "output_type": "stream",
     "text": [
      "Feature Name: gender\n",
      "Total number of unique values = 2\n",
      "Unique values in this feature: ['female' 'male']\n",
      "\n",
      "Feature Name: race_ethnicity\n",
      "Total number of unique values = 5\n",
      "Unique values in this feature: ['group B' 'group C' 'group A' 'group D' 'group E']\n",
      "\n",
      "Feature Name: parental_level_of_education\n",
      "Total number of unique values = 6\n",
      "Unique values in this feature: [\"bachelor's degree\" 'some college' \"master's degree\" \"associate's degree\"\n",
      " 'high school' 'some high school']\n",
      "\n",
      "Feature Name: lunch\n",
      "Total number of unique values = 2\n",
      "Unique values in this feature: ['standard' 'free/reduced']\n",
      "\n",
      "Feature Name: test_preparation_course\n",
      "Total number of unique values = 2\n",
      "Unique values in this feature: ['none' 'completed']\n",
      "\n"
     ]
    }
   ],
   "source": [
    "# observing the unique values in the categorical columns\n",
    "for col in cat_col:\n",
    "    print(f\"Feature Name: {col}\\nTotal number of unique values = {df[col].nunique()}\\nUnique values in this feature: {df[col].unique()}\\n\")"
   ]
  },
  {
   "cell_type": "markdown",
   "id": "cfd8e0c8",
   "metadata": {},
   "source": [
    "**Observations: From the above results we can find the unique values in each of the categorical variables in the dataset.** "
   ]
  },
  {
   "cell_type": "code",
   "execution_count": 10,
   "id": "c555d63b",
   "metadata": {},
   "outputs": [
    {
     "name": "stdout",
     "output_type": "stream",
     "text": [
      "gender\n",
      "female    0.518\n",
      "male      0.482\n",
      "Name: proportion, dtype: float64\n",
      "\n",
      "race_ethnicity\n",
      "group C    0.319\n",
      "group D    0.262\n",
      "group B    0.190\n",
      "group E    0.140\n",
      "group A    0.089\n",
      "Name: proportion, dtype: float64\n",
      "\n",
      "parental_level_of_education\n",
      "some college          0.226\n",
      "associate's degree    0.222\n",
      "high school           0.196\n",
      "some high school      0.179\n",
      "bachelor's degree     0.118\n",
      "master's degree       0.059\n",
      "Name: proportion, dtype: float64\n",
      "\n",
      "lunch\n",
      "standard        0.645\n",
      "free/reduced    0.355\n",
      "Name: proportion, dtype: float64\n",
      "\n",
      "test_preparation_course\n",
      "none         0.642\n",
      "completed    0.358\n",
      "Name: proportion, dtype: float64\n",
      "\n"
     ]
    }
   ],
   "source": [
    "# checking the proportion of classes in each of the categorical features in the dataset\n",
    "for col in cat_col:\n",
    "    print(f\"{df[col].value_counts(normalize=True)}\\n\")"
   ]
  },
  {
   "cell_type": "code",
   "execution_count": 11,
   "id": "e0145e7a",
   "metadata": {},
   "outputs": [
    {
     "data": {
      "text/html": [
       "<div>\n",
       "<style scoped>\n",
       "    .dataframe tbody tr th:only-of-type {\n",
       "        vertical-align: middle;\n",
       "    }\n",
       "\n",
       "    .dataframe tbody tr th {\n",
       "        vertical-align: top;\n",
       "    }\n",
       "\n",
       "    .dataframe thead th {\n",
       "        text-align: right;\n",
       "    }\n",
       "</style>\n",
       "<table border=\"1\" class=\"dataframe\">\n",
       "  <thead>\n",
       "    <tr style=\"text-align: right;\">\n",
       "      <th></th>\n",
       "      <th>math_score</th>\n",
       "      <th>reading_score</th>\n",
       "      <th>writing_score</th>\n",
       "    </tr>\n",
       "  </thead>\n",
       "  <tbody>\n",
       "    <tr>\n",
       "      <th>count</th>\n",
       "      <td>1000.00000</td>\n",
       "      <td>1000.000000</td>\n",
       "      <td>1000.000000</td>\n",
       "    </tr>\n",
       "    <tr>\n",
       "      <th>mean</th>\n",
       "      <td>66.08900</td>\n",
       "      <td>69.169000</td>\n",
       "      <td>68.054000</td>\n",
       "    </tr>\n",
       "    <tr>\n",
       "      <th>std</th>\n",
       "      <td>15.16308</td>\n",
       "      <td>14.600192</td>\n",
       "      <td>15.195657</td>\n",
       "    </tr>\n",
       "    <tr>\n",
       "      <th>min</th>\n",
       "      <td>0.00000</td>\n",
       "      <td>17.000000</td>\n",
       "      <td>10.000000</td>\n",
       "    </tr>\n",
       "    <tr>\n",
       "      <th>25%</th>\n",
       "      <td>57.00000</td>\n",
       "      <td>59.000000</td>\n",
       "      <td>57.750000</td>\n",
       "    </tr>\n",
       "    <tr>\n",
       "      <th>50%</th>\n",
       "      <td>66.00000</td>\n",
       "      <td>70.000000</td>\n",
       "      <td>69.000000</td>\n",
       "    </tr>\n",
       "    <tr>\n",
       "      <th>75%</th>\n",
       "      <td>77.00000</td>\n",
       "      <td>79.000000</td>\n",
       "      <td>79.000000</td>\n",
       "    </tr>\n",
       "    <tr>\n",
       "      <th>max</th>\n",
       "      <td>100.00000</td>\n",
       "      <td>100.000000</td>\n",
       "      <td>100.000000</td>\n",
       "    </tr>\n",
       "  </tbody>\n",
       "</table>\n",
       "</div>"
      ],
      "text/plain": [
       "       math_score  reading_score  writing_score\n",
       "count  1000.00000    1000.000000    1000.000000\n",
       "mean     66.08900      69.169000      68.054000\n",
       "std      15.16308      14.600192      15.195657\n",
       "min       0.00000      17.000000      10.000000\n",
       "25%      57.00000      59.000000      57.750000\n",
       "50%      66.00000      70.000000      69.000000\n",
       "75%      77.00000      79.000000      79.000000\n",
       "max     100.00000     100.000000     100.000000"
      ]
     },
     "execution_count": 11,
     "metadata": {},
     "output_type": "execute_result"
    }
   ],
   "source": [
    "# Checking the 5 point summary of the numerical features in the dataset\n",
    "df.describe(include=np.number)"
   ]
  },
  {
   "cell_type": "markdown",
   "id": "0f80088e",
   "metadata": {},
   "source": [
    "### Feature Engineering"
   ]
  },
  {
   "cell_type": "code",
   "execution_count": 12,
   "id": "20160090",
   "metadata": {},
   "outputs": [],
   "source": [
    "# creating a feature to calculate the average marks of each student \n",
    "df['Average_score'] = (df['math_score']+df['reading_score']+df['writing_score'])/3\n"
   ]
  },
  {
   "cell_type": "code",
   "execution_count": 13,
   "id": "a6850484",
   "metadata": {},
   "outputs": [
    {
     "data": {
      "text/html": [
       "<div>\n",
       "<style scoped>\n",
       "    .dataframe tbody tr th:only-of-type {\n",
       "        vertical-align: middle;\n",
       "    }\n",
       "\n",
       "    .dataframe tbody tr th {\n",
       "        vertical-align: top;\n",
       "    }\n",
       "\n",
       "    .dataframe thead th {\n",
       "        text-align: right;\n",
       "    }\n",
       "</style>\n",
       "<table border=\"1\" class=\"dataframe\">\n",
       "  <thead>\n",
       "    <tr style=\"text-align: right;\">\n",
       "      <th></th>\n",
       "      <th>gender</th>\n",
       "      <th>race_ethnicity</th>\n",
       "      <th>parental_level_of_education</th>\n",
       "      <th>lunch</th>\n",
       "      <th>test_preparation_course</th>\n",
       "      <th>math_score</th>\n",
       "      <th>reading_score</th>\n",
       "      <th>writing_score</th>\n",
       "      <th>Average_score</th>\n",
       "    </tr>\n",
       "  </thead>\n",
       "  <tbody>\n",
       "    <tr>\n",
       "      <th>0</th>\n",
       "      <td>female</td>\n",
       "      <td>group B</td>\n",
       "      <td>bachelor's degree</td>\n",
       "      <td>standard</td>\n",
       "      <td>none</td>\n",
       "      <td>72</td>\n",
       "      <td>72</td>\n",
       "      <td>74</td>\n",
       "      <td>72.666667</td>\n",
       "    </tr>\n",
       "    <tr>\n",
       "      <th>1</th>\n",
       "      <td>female</td>\n",
       "      <td>group C</td>\n",
       "      <td>some college</td>\n",
       "      <td>standard</td>\n",
       "      <td>completed</td>\n",
       "      <td>69</td>\n",
       "      <td>90</td>\n",
       "      <td>88</td>\n",
       "      <td>82.333333</td>\n",
       "    </tr>\n",
       "  </tbody>\n",
       "</table>\n",
       "</div>"
      ],
      "text/plain": [
       "   gender race_ethnicity parental_level_of_education     lunch  \\\n",
       "0  female        group B           bachelor's degree  standard   \n",
       "1  female        group C                some college  standard   \n",
       "\n",
       "  test_preparation_course  math_score  reading_score  writing_score  \\\n",
       "0                    none          72             72             74   \n",
       "1               completed          69             90             88   \n",
       "\n",
       "   Average_score  \n",
       "0      72.666667  \n",
       "1      82.333333  "
      ]
     },
     "execution_count": 13,
     "metadata": {},
     "output_type": "execute_result"
    }
   ],
   "source": [
    "df.head(2)"
   ]
  },
  {
   "cell_type": "code",
   "execution_count": 14,
   "id": "063f8a96",
   "metadata": {},
   "outputs": [
    {
     "data": {
      "image/png": "[encoded data removed]",
      "text/plain": [
       "<Figure size 1500x500 with 2 Axes>"
      ]
     },
     "metadata": {},
     "output_type": "display_data"
    }
   ],
   "source": [
    "plt.figure(figsize=(15,5))\n",
    "plt.subplot(1,2,1)\n",
    "sns.histplot(df['Average_score'],kde=True)\n",
    "plt.axvline(df['Average_score'].mean(),ls='--',color='k')\n",
    "plt.subplot(1,2,2)\n",
    "sns.histplot(data=df,x='Average_score',kde=True,hue='gender')\n",
    "plt.show()"
   ]
  },
  {
   "cell_type": "code",
   "execution_count": 15,
   "id": "6d67dc00",
   "metadata": {},
   "outputs": [
    {
     "data": {
      "text/plain": [
       "Index(['gender', 'race_ethnicity', 'parental_level_of_education', 'lunch',\n",
       "       'test_preparation_course', 'math_score', 'reading_score',\n",
       "       'writing_score', 'Average_score'],\n",
       "      dtype='object')"
      ]
     },
     "execution_count": 15,
     "metadata": {},
     "output_type": "execute_result"
    }
   ],
   "source": [
    "df.columns"
   ]
  },
  {
   "cell_type": "code",
   "execution_count": 16,
   "id": "c9e62024",
   "metadata": {},
   "outputs": [],
   "source": [
    "# removing math_score,reading_score and writing_score columns as we have already created Average_score column using these three\n",
    "df.drop(['math_score','reading_score','writing_score'],axis=1,inplace=True)"
   ]
  },
  {
   "cell_type": "code",
   "execution_count": 17,
   "id": "71f07e02",
   "metadata": {},
   "outputs": [
    {
     "data": {
      "text/html": [
       "<div>\n",
       "<style scoped>\n",
       "    .dataframe tbody tr th:only-of-type {\n",
       "        vertical-align: middle;\n",
       "    }\n",
       "\n",
       "    .dataframe tbody tr th {\n",
       "        vertical-align: top;\n",
       "    }\n",
       "\n",
       "    .dataframe thead th {\n",
       "        text-align: right;\n",
       "    }\n",
       "</style>\n",
       "<table border=\"1\" class=\"dataframe\">\n",
       "  <thead>\n",
       "    <tr style=\"text-align: right;\">\n",
       "      <th></th>\n",
       "      <th>gender</th>\n",
       "      <th>race_ethnicity</th>\n",
       "      <th>parental_level_of_education</th>\n",
       "      <th>lunch</th>\n",
       "      <th>test_preparation_course</th>\n",
       "      <th>Average_score</th>\n",
       "    </tr>\n",
       "  </thead>\n",
       "  <tbody>\n",
       "    <tr>\n",
       "      <th>0</th>\n",
       "      <td>female</td>\n",
       "      <td>group B</td>\n",
       "      <td>bachelor's degree</td>\n",
       "      <td>standard</td>\n",
       "      <td>none</td>\n",
       "      <td>72.666667</td>\n",
       "    </tr>\n",
       "    <tr>\n",
       "      <th>1</th>\n",
       "      <td>female</td>\n",
       "      <td>group C</td>\n",
       "      <td>some college</td>\n",
       "      <td>standard</td>\n",
       "      <td>completed</td>\n",
       "      <td>82.333333</td>\n",
       "    </tr>\n",
       "  </tbody>\n",
       "</table>\n",
       "</div>"
      ],
      "text/plain": [
       "   gender race_ethnicity parental_level_of_education     lunch  \\\n",
       "0  female        group B           bachelor's degree  standard   \n",
       "1  female        group C                some college  standard   \n",
       "\n",
       "  test_preparation_course  Average_score  \n",
       "0                    none      72.666667  \n",
       "1               completed      82.333333  "
      ]
     },
     "execution_count": 17,
     "metadata": {},
     "output_type": "execute_result"
    }
   ],
   "source": [
    "df.head(2)"
   ]
  },
  {
   "cell_type": "code",
   "execution_count": 18,
   "id": "80b3e503",
   "metadata": {},
   "outputs": [],
   "source": [
    "X = df.drop('Average_score',axis=1)\n",
    "y = df[['Average_score']]"
   ]
  },
  {
   "cell_type": "code",
   "execution_count": 19,
   "id": "efc642a9",
   "metadata": {},
   "outputs": [
    {
     "data": {
      "text/html": [
       "<div>\n",
       "<style scoped>\n",
       "    .dataframe tbody tr th:only-of-type {\n",
       "        vertical-align: middle;\n",
       "    }\n",
       "\n",
       "    .dataframe tbody tr th {\n",
       "        vertical-align: top;\n",
       "    }\n",
       "\n",
       "    .dataframe thead th {\n",
       "        text-align: right;\n",
       "    }\n",
       "</style>\n",
       "<table border=\"1\" class=\"dataframe\">\n",
       "  <thead>\n",
       "    <tr style=\"text-align: right;\">\n",
       "      <th></th>\n",
       "      <th>Average_score</th>\n",
       "    </tr>\n",
       "  </thead>\n",
       "  <tbody>\n",
       "    <tr>\n",
       "      <th>0</th>\n",
       "      <td>72.666667</td>\n",
       "    </tr>\n",
       "    <tr>\n",
       "      <th>1</th>\n",
       "      <td>82.333333</td>\n",
       "    </tr>\n",
       "    <tr>\n",
       "      <th>2</th>\n",
       "      <td>92.666667</td>\n",
       "    </tr>\n",
       "    <tr>\n",
       "      <th>3</th>\n",
       "      <td>49.333333</td>\n",
       "    </tr>\n",
       "    <tr>\n",
       "      <th>4</th>\n",
       "      <td>76.333333</td>\n",
       "    </tr>\n",
       "    <tr>\n",
       "      <th>...</th>\n",
       "      <td>...</td>\n",
       "    </tr>\n",
       "    <tr>\n",
       "      <th>995</th>\n",
       "      <td>94.000000</td>\n",
       "    </tr>\n",
       "    <tr>\n",
       "      <th>996</th>\n",
       "      <td>57.333333</td>\n",
       "    </tr>\n",
       "    <tr>\n",
       "      <th>997</th>\n",
       "      <td>65.000000</td>\n",
       "    </tr>\n",
       "    <tr>\n",
       "      <th>998</th>\n",
       "      <td>74.333333</td>\n",
       "    </tr>\n",
       "    <tr>\n",
       "      <th>999</th>\n",
       "      <td>83.000000</td>\n",
       "    </tr>\n",
       "  </tbody>\n",
       "</table>\n",
       "<p>1000 rows × 1 columns</p>\n",
       "</div>"
      ],
      "text/plain": [
       "     Average_score\n",
       "0        72.666667\n",
       "1        82.333333\n",
       "2        92.666667\n",
       "3        49.333333\n",
       "4        76.333333\n",
       "..             ...\n",
       "995      94.000000\n",
       "996      57.333333\n",
       "997      65.000000\n",
       "998      74.333333\n",
       "999      83.000000\n",
       "\n",
       "[1000 rows x 1 columns]"
      ]
     },
     "execution_count": 19,
     "metadata": {},
     "output_type": "execute_result"
    }
   ],
   "source": [
    "y"
   ]
  },
  {
   "cell_type": "code",
   "execution_count": 21,
   "id": "1f794187",
   "metadata": {},
   "outputs": [],
   "source": [
    "# encoding the categorical columns\n",
    "from sklearn.preprocessing import OneHotEncoder\n",
    "from sklearn.compose import ColumnTransformer\n",
    "\n",
    "cat_transformer = OneHotEncoder()\n",
    "processing = ColumnTransformer([\n",
    "    ('OneHotEncoder',cat_transformer,cat_col)\n",
    "])\n",
    "\n",
    "X_trans=cat_transformer.fit_transform(X=X)\n",
    "\n"
   ]
  },
  {
   "cell_type": "code",
   "execution_count": 34,
   "id": "8e06611d",
   "metadata": {},
   "outputs": [],
   "source": [
    "X_train,X_test,y_train,y_test = train_test_split(X_trans,y,train_size=0.8,random_state=42)"
   ]
  },
  {
   "cell_type": "code",
   "execution_count": 35,
   "id": "8f17f89d",
   "metadata": {},
   "outputs": [
    {
     "data": {
      "text/plain": [
       "((800, 17), (200, 17))"
      ]
     },
     "execution_count": 35,
     "metadata": {},
     "output_type": "execute_result"
    }
   ],
   "source": [
    "X_train.shape,X_test.shape"
   ]
  },
  {
   "cell_type": "code",
   "execution_count": 24,
   "id": "9ecc79d0",
   "metadata": {},
   "outputs": [],
   "source": [
    "def evaluation_metrics(y_true,y_pred):\n",
    "    mae = mean_absolute_error(y_true,y_pred)\n",
    "    mse = mean_squared_error(y_true,y_pred)\n",
    "    rmse = np.sqrt(mse)\n",
    "    r2_squared = r2_score(y_true,y_pred)\n",
    "    return mae,rmse,r2_squared"
   ]
  },
  {
   "cell_type": "code",
   "execution_count": 46,
   "id": "d15df165",
   "metadata": {},
   "outputs": [],
   "source": [
    "# Initializing different models and evaluating there performances\n",
    "models = {\n",
    "    \"LinearRegression\":LinearRegression(),\n",
    "    \"Ridge\":Ridge(),\n",
    "    \"Lasso\":Lasso(),\n",
    "    \"AdaBoostRegressor\":AdaBoostRegressor(),\n",
    "    \"DecisionTreeRegressor\":DecisionTreeRegressor(),\n",
    "    \"RandomForestRegressor\":RandomForestRegressor(),\n",
    "    \"CatBoostRegressor\":CatBoostRegressor(verbose=False),\n",
    "    \"XGBRegressor\":XGBRegressor()\n",
    "}"
   ]
  },
  {
   "cell_type": "code",
   "execution_count": 47,
   "id": "757644db",
   "metadata": {},
   "outputs": [],
   "source": [
    "model_list = []\n",
    "mae_vals_train = []\n",
    "rmse_vals_train = []\n",
    "r2_vals_train = []\n",
    "mae_vals_test = []\n",
    "rmse_vals_test = []\n",
    "r2_vals_test = []\n",
    "for i in range(len(list(models))):\n",
    "    model = list(models.values())[i]\n",
    "    model.fit(X_train,y_train)\n",
    "\n",
    "    y_train_pred = model.predict(X_train)\n",
    "    y_test_pred = model.predict(X_test)\n",
    "\n",
    "    model_list.append(list(models.keys())[i])\n",
    "\n",
    "    mae_train,rmse_train,r2_score_train=evaluation_metrics(y_train,y_train_pred)\n",
    "    mae_test,rmse_test,r2_score_test = evaluation_metrics(y_test,y_test_pred)\n",
    "\n",
    "    mae_vals_train.append(mae_train)\n",
    "    rmse_vals_train.append(rmse_train)\n",
    "    r2_vals_train.append(r2_score_train)\n",
    "\n",
    "    mae_vals_test.append(mae_test)\n",
    "    rmse_vals_test.append(rmse_test)\n",
    "    r2_vals_test.append(r2_score_test)\n",
    "\n",
    "results_df = pd.DataFrame({\"Models\":model_list,\n",
    "                    \"Mean Absolute Error (Train)\":mae_vals_train,\n",
    "                    \"RMSE (Train)\":rmse_vals_train,\n",
    "                    \"R2 Score (Train)\":r2_vals_train,\n",
    "                    \"Mean Absolute Error (Test)\":mae_vals_test,\n",
    "                    \"RMSE (Test)\":rmse_vals_test,\n",
    "                    \"R2 Score (Test)\":r2_vals_test})\n",
    "        \n"
   ]
  },
  {
   "cell_type": "code",
   "execution_count": 43,
   "id": "22ea02f4",
   "metadata": {},
   "outputs": [
    {
     "data": {
      "text/plain": [
       "dict_keys(['LinearRegression', 'Ridge', 'Lasso', 'AdaBoostRegressor', 'DecisionTreeRegressor', 'RandomForestRegressor', 'CatBoostRegressor', 'XGBRegressor'])"
      ]
     },
     "execution_count": 43,
     "metadata": {},
     "output_type": "execute_result"
    }
   ],
   "source": [
    "models.keys()"
   ]
  },
  {
   "cell_type": "code",
   "execution_count": 49,
   "id": "acf1e8bd",
   "metadata": {},
   "outputs": [
    {
     "name": "stdout",
     "output_type": "stream",
     "text": [
      "Performance of models on train dataset\n"
     ]
    },
    {
     "data": {
      "text/html": [
       "<div>\n",
       "<style scoped>\n",
       "    .dataframe tbody tr th:only-of-type {\n",
       "        vertical-align: middle;\n",
       "    }\n",
       "\n",
       "    .dataframe tbody tr th {\n",
       "        vertical-align: top;\n",
       "    }\n",
       "\n",
       "    .dataframe thead th {\n",
       "        text-align: right;\n",
       "    }\n",
       "</style>\n",
       "<table border=\"1\" class=\"dataframe\">\n",
       "  <thead>\n",
       "    <tr style=\"text-align: right;\">\n",
       "      <th></th>\n",
       "      <th>Models</th>\n",
       "      <th>Mean Absolute Error (Train)</th>\n",
       "      <th>RMSE (Train)</th>\n",
       "      <th>R2 Score (Train)</th>\n",
       "      <th>Mean Absolute Error (Test)</th>\n",
       "      <th>RMSE (Test)</th>\n",
       "      <th>R2 Score (Test)</th>\n",
       "    </tr>\n",
       "  </thead>\n",
       "  <tbody>\n",
       "    <tr>\n",
       "      <th>0</th>\n",
       "      <td>LinearRegression</td>\n",
       "      <td>9.936148</td>\n",
       "      <td>12.195660</td>\n",
       "      <td>0.254277</td>\n",
       "      <td>10.490183</td>\n",
       "      <td>13.401581</td>\n",
       "      <td>0.162172</td>\n",
       "    </tr>\n",
       "    <tr>\n",
       "      <th>1</th>\n",
       "      <td>Ridge</td>\n",
       "      <td>9.935546</td>\n",
       "      <td>12.195703</td>\n",
       "      <td>0.254271</td>\n",
       "      <td>10.492945</td>\n",
       "      <td>13.403383</td>\n",
       "      <td>0.161946</td>\n",
       "    </tr>\n",
       "    <tr>\n",
       "      <th>3</th>\n",
       "      <td>AdaBoostRegressor</td>\n",
       "      <td>10.040392</td>\n",
       "      <td>12.318690</td>\n",
       "      <td>0.239155</td>\n",
       "      <td>10.914126</td>\n",
       "      <td>13.918049</td>\n",
       "      <td>0.096351</td>\n",
       "    </tr>\n",
       "    <tr>\n",
       "      <th>2</th>\n",
       "      <td>Lasso</td>\n",
       "      <td>10.562460</td>\n",
       "      <td>13.196442</td>\n",
       "      <td>0.126866</td>\n",
       "      <td>11.088572</td>\n",
       "      <td>14.133786</td>\n",
       "      <td>0.068120</td>\n",
       "    </tr>\n",
       "    <tr>\n",
       "      <th>5</th>\n",
       "      <td>RandomForestRegressor</td>\n",
       "      <td>8.776719</td>\n",
       "      <td>10.933925</td>\n",
       "      <td>0.400596</td>\n",
       "      <td>11.492937</td>\n",
       "      <td>14.827528</td>\n",
       "      <td>-0.025606</td>\n",
       "    </tr>\n",
       "    <tr>\n",
       "      <th>6</th>\n",
       "      <td>CatBoostRegressor</td>\n",
       "      <td>8.687289</td>\n",
       "      <td>10.877013</td>\n",
       "      <td>0.406820</td>\n",
       "      <td>11.630974</td>\n",
       "      <td>14.962669</td>\n",
       "      <td>-0.044386</td>\n",
       "    </tr>\n",
       "    <tr>\n",
       "      <th>7</th>\n",
       "      <td>XGBRegressor</td>\n",
       "      <td>8.624492</td>\n",
       "      <td>10.864813</td>\n",
       "      <td>0.408150</td>\n",
       "      <td>11.783975</td>\n",
       "      <td>15.148289</td>\n",
       "      <td>-0.070459</td>\n",
       "    </tr>\n",
       "    <tr>\n",
       "      <th>4</th>\n",
       "      <td>DecisionTreeRegressor</td>\n",
       "      <td>8.621866</td>\n",
       "      <td>10.864718</td>\n",
       "      <td>0.408160</td>\n",
       "      <td>11.808056</td>\n",
       "      <td>15.181176</td>\n",
       "      <td>-0.075112</td>\n",
       "    </tr>\n",
       "  </tbody>\n",
       "</table>\n",
       "</div>"
      ],
      "text/plain": [
       "                  Models  Mean Absolute Error (Train)  RMSE (Train)  \\\n",
       "0       LinearRegression                     9.936148     12.195660   \n",
       "1                  Ridge                     9.935546     12.195703   \n",
       "3      AdaBoostRegressor                    10.040392     12.318690   \n",
       "2                  Lasso                    10.562460     13.196442   \n",
       "5  RandomForestRegressor                     8.776719     10.933925   \n",
       "6      CatBoostRegressor                     8.687289     10.877013   \n",
       "7           XGBRegressor                     8.624492     10.864813   \n",
       "4  DecisionTreeRegressor                     8.621866     10.864718   \n",
       "\n",
       "   R2 Score (Train)  Mean Absolute Error (Test)  RMSE (Test)  R2 Score (Test)  \n",
       "0          0.254277                   10.490183    13.401581         0.162172  \n",
       "1          0.254271                   10.492945    13.403383         0.161946  \n",
       "3          0.239155                   10.914126    13.918049         0.096351  \n",
       "2          0.126866                   11.088572    14.133786         0.068120  \n",
       "5          0.400596                   11.492937    14.827528        -0.025606  \n",
       "6          0.406820                   11.630974    14.962669        -0.044386  \n",
       "7          0.408150                   11.783975    15.148289        -0.070459  \n",
       "4          0.408160                   11.808056    15.181176        -0.075112  "
      ]
     },
     "execution_count": 49,
     "metadata": {},
     "output_type": "execute_result"
    }
   ],
   "source": [
    "print(\"Performance of models on train dataset\")\n",
    "results_df.sort_values(by=['Mean Absolute Error (Test)','RMSE (Test)','R2 Score (Test)'])"
   ]
  },
  {
   "cell_type": "code",
   "execution_count": null,
   "id": "6b86790e",
   "metadata": {},
   "outputs": [],
   "source": []
  }
 ],
 "metadata": {
  "kernelspec": {
   "display_name": "Python 3",
   "language": "python",
   "name": "python3"
  },
  "language_info": {
   "codemirror_mode": {
    "name": "ipython",
    "version": 3
   },
   "file_extension": ".py",
   "mimetype": "text/x-python",
   "name": "python",
   "nbconvert_exporter": "python",
   "pygments_lexer": "ipython3",
   "version": "3.12.0"
  }
 },
 "nbformat": 4,
 "nbformat_minor": 5
}
